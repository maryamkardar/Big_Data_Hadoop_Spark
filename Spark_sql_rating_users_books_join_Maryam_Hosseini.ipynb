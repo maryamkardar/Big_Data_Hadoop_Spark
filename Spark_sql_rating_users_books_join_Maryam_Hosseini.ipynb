{
 "cells": [
  {
   "cell_type": "code",
   "execution_count": 1,
   "id": "66a89b37-f419-4ce5-8f52-04f0115f881d",
   "metadata": {},
   "outputs": [],
   "source": [
    "from pyspark.sql import SparkSession"
   ]
  },
  {
   "cell_type": "code",
   "execution_count": 2,
   "id": "9fff4890-ab35-4ada-8bb0-d3b96bd559e3",
   "metadata": {},
   "outputs": [],
   "source": [
    "from pyspark.sql.functions import *"
   ]
  },
  {
   "cell_type": "code",
   "execution_count": 3,
   "id": "7c89540b-58b9-4a40-8bb1-6bf75600ab94",
   "metadata": {},
   "outputs": [
    {
     "name": "stderr",
     "output_type": "stream",
     "text": [
      "Setting default log level to \"WARN\".\n",
      "To adjust logging level use sc.setLogLevel(newLevel). For SparkR, use setLogLevel(newLevel).\n",
      "25/01/01 08:11:53 WARN NativeCodeLoader: Unable to load native-hadoop library for your platform... using builtin-java classes where applicable\n"
     ]
    }
   ],
   "source": [
    "spark = SparkSession.builder.master('local[*]').appName('BooksRatings_join').getOrCreate()"
   ]
  },
  {
   "cell_type": "code",
   "execution_count": 8,
   "id": "197c74a1-219c-4fb1-a4e8-219c2b9882af",
   "metadata": {},
   "outputs": [
    {
     "name": "stderr",
     "output_type": "stream",
     "text": [
      "                                                                                "
     ]
    }
   ],
   "source": [
    "rating_df = spark.read.options(sep=';', header=True, inferSchema=True).csv('/home/maryam/content/BooksRating-CSV/Book-Ratings.csv')"
   ]
  },
  {
   "cell_type": "code",
   "execution_count": 9,
   "id": "cf1ea12e-ff86-4428-8c05-699bd54942ca",
   "metadata": {},
   "outputs": [
    {
     "name": "stdout",
     "output_type": "stream",
     "text": [
      "+------+----------+----+\n",
      "|userid|      isbn|rate|\n",
      "+------+----------+----+\n",
      "|276725|034545104X|   0|\n",
      "|276726|0155061224|   5|\n",
      "|276727|0446520802|   0|\n",
      "|276729|052165615X|   3|\n",
      "|276729|0521795028|   6|\n",
      "|276733|2080674722|   0|\n",
      "|276736|3257224281|   8|\n",
      "|276737|0600570967|   6|\n",
      "|276744|038550120X|   7|\n",
      "|276745| 342310538|  10|\n",
      "+------+----------+----+\n",
      "only showing top 10 rows\n",
      "\n"
     ]
    }
   ],
   "source": [
    "rating_df.show(10)"
   ]
  },
  {
   "cell_type": "code",
   "execution_count": 10,
   "id": "afafec08-227e-43e5-a75a-61a49bf65684",
   "metadata": {},
   "outputs": [
    {
     "name": "stderr",
     "output_type": "stream",
     "text": [
      "                                                                                "
     ]
    }
   ],
   "source": [
    "books_df = spark.read.options(sep=';', header=True, inferSchema=True).csv('/home/maryam/content/BooksRating-CSV/Books.csv')"
   ]
  },
  {
   "cell_type": "code",
   "execution_count": 18,
   "id": "cce01d14-be76-41f5-9e45-86004da11d63",
   "metadata": {},
   "outputs": [
    {
     "name": "stdout",
     "output_type": "stream",
     "text": [
      "-RECORD 0-------------------------------------------------------------------------\n",
      " ISBN              | 0195153448                                                   \n",
      " BookTitle         | Classical Mythology                                          \n",
      " BookAuthor        | Mark P. O. Morford                                           \n",
      " YearOfPublication | 2002                                                         \n",
      " Publisher         | Oxford University Press                                      \n",
      " ImageURLS         | http://images.amazon.com/images/P/0195153448.01.THUMBZZZ.jpg \n",
      " ImageURLM         | http://images.amazon.com/images/P/0195153448.01.MZZZZZZZ.jpg \n",
      " ImageURLL         | http://images.amazon.com/images/P/0195153448.01.LZZZZZZZ.jpg \n",
      "-RECORD 1-------------------------------------------------------------------------\n",
      " ISBN              | 0002005018                                                   \n",
      " BookTitle         | Clara Callan                                                 \n",
      " BookAuthor        | Richard Bruce Wright                                         \n",
      " YearOfPublication | 2001                                                         \n",
      " Publisher         | HarperFlamingo Canada                                        \n",
      " ImageURLS         | http://images.amazon.com/images/P/0002005018.01.THUMBZZZ.jpg \n",
      " ImageURLM         | http://images.amazon.com/images/P/0002005018.01.MZZZZZZZ.jpg \n",
      " ImageURLL         | http://images.amazon.com/images/P/0002005018.01.LZZZZZZZ.jpg \n",
      "only showing top 2 rows\n",
      "\n"
     ]
    }
   ],
   "source": [
    "books_df.show(2, truncate=False, vertical=True)"
   ]
  },
  {
   "cell_type": "code",
   "execution_count": 19,
   "id": "d29b47e5-cdb6-4506-b1c5-ad2e50e4f1a7",
   "metadata": {},
   "outputs": [
    {
     "name": "stderr",
     "output_type": "stream",
     "text": [
      "                                                                                "
     ]
    }
   ],
   "source": [
    "users_df = spark.read.options(sep=';', header=True, inferSchema=True).csv('/home/maryam/content/BooksRating-CSV/Users.csv')"
   ]
  },
  {
   "cell_type": "code",
   "execution_count": 21,
   "id": "67fa018c-f14e-4c05-82bd-72bfafc223be",
   "metadata": {},
   "outputs": [
    {
     "name": "stdout",
     "output_type": "stream",
     "text": [
      "+------+-----------+--------------------+----+\n",
      "|UserID|   USERNAME|            Location| Age|\n",
      "+------+-----------+--------------------+----+\n",
      "|     1|bzsufoRTLN2|  nyc, new york, usa|NULL|\n",
      "|     2|fq7kfHg4VEI|stockton, califor...|  18|\n",
      "|     3|W0Hbkd3xR8v|moscow, yukon ter...|NULL|\n",
      "|     4|W51GahAx5Ap|porto, v.n.gaia, ...|  17|\n",
      "|     5|VKN3PQ18GgN|farnborough, hant...|NULL|\n",
      "|     6|h9BSgQZ5wOk|santa monica, cal...|  61|\n",
      "|     7|7rdddpZpjWp| washington, dc, usa|NULL|\n",
      "|     8|qiOJebWJS2i|timmins, ontario,...|NULL|\n",
      "|     9|gkcxQJLS13A|germantown, tenne...|NULL|\n",
      "|    10|BANPptNSbPy|albacete, wiscons...|  26|\n",
      "+------+-----------+--------------------+----+\n",
      "only showing top 10 rows\n",
      "\n"
     ]
    }
   ],
   "source": [
    "users_df.show(10)"
   ]
  },
  {
   "cell_type": "code",
   "execution_count": 22,
   "id": "ea7387ee-7ac6-4cea-8e44-d436bc246b4a",
   "metadata": {},
   "outputs": [
    {
     "name": "stdout",
     "output_type": "stream",
     "text": [
      "+------+----------+----+\n",
      "|userid|      isbn|rate|\n",
      "+------+----------+----+\n",
      "|276725|034545104X|   0|\n",
      "|276726|0155061224|   5|\n",
      "|276727|0446520802|   0|\n",
      "|276729|052165615X|   3|\n",
      "|276729|0521795028|   6|\n",
      "|276733|2080674722|   0|\n",
      "|276736|3257224281|   8|\n",
      "|276737|0600570967|   6|\n",
      "|276744|038550120X|   7|\n",
      "|276745| 342310538|  10|\n",
      "+------+----------+----+\n",
      "only showing top 10 rows\n",
      "\n"
     ]
    }
   ],
   "source": [
    "rating_df.show(10)"
   ]
  },
  {
   "cell_type": "code",
   "execution_count": 27,
   "id": "487e05f6-b013-44de-8ffd-831c4ff6ebc7",
   "metadata": {},
   "outputs": [],
   "source": [
    "avg_rating_df = rating_df.groupBy(\"isbn\").agg(avg(\"rate\").alias(\"Avg\"))"
   ]
  },
  {
   "cell_type": "code",
   "execution_count": 28,
   "id": "5c018686-42a6-49f3-b5e7-dfc82cad487c",
   "metadata": {},
   "outputs": [
    {
     "name": "stderr",
     "output_type": "stream",
     "text": [
      "[Stage 21:==============>                                           (1 + 3) / 4]"
     ]
    },
    {
     "name": "stdout",
     "output_type": "stream",
     "text": [
      "+----------+------------------+\n",
      "|      isbn|               Avg|\n",
      "+----------+------------------+\n",
      "|2080674722|3.6666666666666665|\n",
      "|3499134004|               0.0|\n",
      "|3548603203|3.4166666666666665|\n",
      "|880781112X| 4.333333333333333|\n",
      "|0738205737|1.6666666666666667|\n",
      "|0749317256|               0.0|\n",
      "|0515131520|            1.6875|\n",
      "|8471662531|               7.0|\n",
      "|0441005470|               0.0|\n",
      "|0739417096| 5.285714285714286|\n",
      "+----------+------------------+\n",
      "only showing top 10 rows\n",
      "\n"
     ]
    },
    {
     "name": "stderr",
     "output_type": "stream",
     "text": [
      "                                                                                "
     ]
    }
   ],
   "source": [
    "avg_rating_df.show(10)"
   ]
  },
  {
   "cell_type": "code",
   "execution_count": 29,
   "id": "084cdfc5-469d-417f-a475-a481863d030d",
   "metadata": {},
   "outputs": [],
   "source": [
    "rating_new_df = rating_df.join(avg_rating_df, on=\"isbn\", how=\"left\")"
   ]
  },
  {
   "cell_type": "code",
   "execution_count": 30,
   "id": "1af873a5-ce28-4afd-bbc8-938b8ea04c3d",
   "metadata": {},
   "outputs": [
    {
     "name": "stderr",
     "output_type": "stream",
     "text": [
      "[Stage 25:==============>                                           (1 + 3) / 4]"
     ]
    },
    {
     "name": "stdout",
     "output_type": "stream",
     "text": [
      "+----------+------+----+------------------+\n",
      "|      isbn|userid|rate|               Avg|\n",
      "+----------+------+----+------------------+\n",
      "|0200001590|236283|   0|               0.0|\n",
      "|034545104X|276725|   0| 2.933333333333333|\n",
      "|0743436822| 79724|   0|2.1923076923076925|\n",
      "|0743436830| 79724|   0|           1.96875|\n",
      "|2080674722|276733|   0|3.6666666666666665|\n",
      "| 342310538|276745|  10|               5.0|\n",
      "|343011571X|160406|   0|               0.0|\n",
      "|3442437407|160406|   0|          3.015625|\n",
      "|3442545668|160406|   0|               0.0|\n",
      "|0307000818|236283|   0|3.3333333333333335|\n",
      "+----------+------+----+------------------+\n",
      "only showing top 10 rows\n",
      "\n"
     ]
    },
    {
     "name": "stderr",
     "output_type": "stream",
     "text": [
      "                                                                                "
     ]
    }
   ],
   "source": [
    "rating_new_df.show(10)"
   ]
  },
  {
   "cell_type": "code",
   "execution_count": 35,
   "id": "9bdd5212-2b27-4fc1-89a2-078592a48c58",
   "metadata": {},
   "outputs": [],
   "source": [
    "rating_users_books_join= rating_new_df.join(users_df, 'userid').join(books_df, 'isbn').select('username', 'booktitle', 'rate', 'avg')"
   ]
  },
  {
   "cell_type": "code",
   "execution_count": 36,
   "id": "a982472c-db8e-417e-94ec-36cf3866f246",
   "metadata": {},
   "outputs": [
    {
     "name": "stderr",
     "output_type": "stream",
     "text": [
      "[Stage 62:==============>                                           (1 + 3) / 4]"
     ]
    },
    {
     "name": "stdout",
     "output_type": "stream",
     "text": [
      "+-----------+--------------------+----+---+\n",
      "|   username|           booktitle|rate|avg|\n",
      "+-----------+--------------------+----+---+\n",
      "|6chdqlR3DC7|The Way Things Wo...|   8|8.0|\n",
      "|cHwJip4Kj4k|                Liar|   9|9.0|\n",
      "|6VUiynjA3tV|The Prime of Miss...|   0|0.0|\n",
      "|cHwJip4Kj4k|    The Fighting Man|   9|9.0|\n",
      "|a0EEWhgtsW8|  First Among Equals|   0|0.0|\n",
      "|OMqCFWvTBPp|           Kidnapped|   0|0.0|\n",
      "|cHwJip4Kj4k|Nothing Can Be Be...|   0|0.0|\n",
      "|e8Hb8GyY8yN| Pearl and Sir Orfeo|   5|5.0|\n",
      "|vRhKAqzPu1g|       Which Colour?|   0|0.0|\n",
      "|1er18zMrBmP|Huck Scarry's Ste...|   0|0.0|\n",
      "+-----------+--------------------+----+---+\n",
      "only showing top 10 rows\n",
      "\n"
     ]
    },
    {
     "name": "stderr",
     "output_type": "stream",
     "text": [
      "                                                                                "
     ]
    }
   ],
   "source": [
    "rating_users_books_join.show(10)"
   ]
  },
  {
   "cell_type": "code",
   "execution_count": null,
   "id": "5f2c75f1-35f1-4ae3-b237-09b51ad1e7e8",
   "metadata": {},
   "outputs": [],
   "source": [
    "rating_users_books_join.write.csv(\"/home/maryam/content/rating_join_results.csv\", header=True)"
   ]
  },
  {
   "cell_type": "code",
   "execution_count": 37,
   "id": "5ef7690f-f49a-45e5-93a1-d90cfee630d5",
   "metadata": {},
   "outputs": [],
   "source": [
    "rating_new_df.createOrReplaceTempView(\"rating_new\")\n",
    "users_df.createOrReplaceTempView(\"users\")\n",
    "books_df.createOrReplaceTempView(\"books\")"
   ]
  },
  {
   "cell_type": "code",
   "execution_count": 38,
   "id": "1a29a121-d933-49ba-9bb4-9906951ed94e",
   "metadata": {},
   "outputs": [],
   "source": [
    "query = \"\"\"\n",
    "SELECT u.username, b.booktitle, r.rate, r.Avg\n",
    "FROM rating_new r\n",
    "JOIN users u ON r.userid = u.userid\n",
    "JOIN books b ON r.isbn = b.isbn\n",
    "\"\"\""
   ]
  },
  {
   "cell_type": "code",
   "execution_count": 39,
   "id": "723ebf3d-b821-4e35-b441-30e310cd9e87",
   "metadata": {},
   "outputs": [],
   "source": [
    "rating_users_books_join = spark.sql(query)"
   ]
  },
  {
   "cell_type": "code",
   "execution_count": 41,
   "id": "f64c519d-fa59-4fa4-a19c-78150e2d0df5",
   "metadata": {},
   "outputs": [
    {
     "name": "stderr",
     "output_type": "stream",
     "text": [
      "[Stage 78:==============>                                           (1 + 3) / 4]"
     ]
    },
    {
     "name": "stdout",
     "output_type": "stream",
     "text": [
      "+-----------+--------------------+----+---+\n",
      "|   username|           booktitle|rate|Avg|\n",
      "+-----------+--------------------+----+---+\n",
      "|6chdqlR3DC7|The Way Things Wo...|   8|8.0|\n",
      "|cHwJip4Kj4k|                Liar|   9|9.0|\n",
      "|6VUiynjA3tV|The Prime of Miss...|   0|0.0|\n",
      "|cHwJip4Kj4k|    The Fighting Man|   9|9.0|\n",
      "|a0EEWhgtsW8|  First Among Equals|   0|0.0|\n",
      "|OMqCFWvTBPp|           Kidnapped|   0|0.0|\n",
      "|cHwJip4Kj4k|Nothing Can Be Be...|   0|0.0|\n",
      "|e8Hb8GyY8yN| Pearl and Sir Orfeo|   5|5.0|\n",
      "|vRhKAqzPu1g|       Which Colour?|   0|0.0|\n",
      "|1er18zMrBmP|Huck Scarry's Ste...|   0|0.0|\n",
      "+-----------+--------------------+----+---+\n",
      "only showing top 10 rows\n",
      "\n"
     ]
    },
    {
     "name": "stderr",
     "output_type": "stream",
     "text": [
      "                                                                                "
     ]
    }
   ],
   "source": [
    "rating_users_books_join.show(10)"
   ]
  },
  {
   "cell_type": "code",
   "execution_count": null,
   "id": "71eefbe7-1a3b-4ed6-88d6-4a61c6d2d446",
   "metadata": {},
   "outputs": [],
   "source": [
    "rating_users_books_join.write.csv(\"/home/maryam/content/rating_users_books_join.csv\", header=True)"
   ]
  },
  {
   "cell_type": "code",
   "execution_count": null,
   "id": "c866ca37-90b5-4574-a700-c8910b40ea9f",
   "metadata": {},
   "outputs": [],
   "source": [
    "spark.stop()"
   ]
  }
 ],
 "metadata": {
  "kernelspec": {
   "display_name": "Python 3 (ipykernel)",
   "language": "python",
   "name": "python3"
  },
  "language_info": {
   "codemirror_mode": {
    "name": "ipython",
    "version": 3
   },
   "file_extension": ".py",
   "mimetype": "text/x-python",
   "name": "python",
   "nbconvert_exporter": "python",
   "pygments_lexer": "ipython3",
   "version": "3.12.3"
  }
 },
 "nbformat": 4,
 "nbformat_minor": 5
}
