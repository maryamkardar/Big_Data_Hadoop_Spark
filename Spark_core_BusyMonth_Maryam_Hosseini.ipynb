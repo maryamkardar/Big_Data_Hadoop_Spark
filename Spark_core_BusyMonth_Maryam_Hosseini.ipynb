{
 "cells": [
  {
   "cell_type": "code",
   "execution_count": 1,
   "id": "0e2acfb8-a2cd-4069-ab5b-bde645fa3b22",
   "metadata": {},
   "outputs": [],
   "source": [
    "from pyspark import SparkContext"
   ]
  },
  {
   "cell_type": "code",
   "execution_count": 2,
   "id": "dfb66148-c1d5-4dc6-942d-65d2878937de",
   "metadata": {},
   "outputs": [],
   "source": [
    "from datetime import datetime"
   ]
  },
  {
   "cell_type": "code",
   "execution_count": 3,
   "id": "271d7332-e8cd-4317-8265-b68aaaa52682",
   "metadata": {},
   "outputs": [
    {
     "name": "stderr",
     "output_type": "stream",
     "text": [
      "Setting default log level to \"WARN\".\n",
      "To adjust logging level use sc.setLogLevel(newLevel). For SparkR, use setLogLevel(newLevel).\n",
      "24/12/16 02:40:09 WARN NativeCodeLoader: Unable to load native-hadoop library for your platform... using builtin-java classes where applicable\n"
     ]
    }
   ],
   "source": [
    "sc = SparkContext(master='local[*]', appName = 'First Spark App')"
   ]
  },
  {
   "cell_type": "code",
   "execution_count": 4,
   "id": "b1851322-3311-4eb1-bc90-e56865269b30",
   "metadata": {},
   "outputs": [],
   "source": [
    "lines = sc.textFile('/home/maryam/content/lax_passengers_header.csv')"
   ]
  },
  {
   "cell_type": "code",
   "execution_count": 20,
   "id": "707aa656-1228-43df-9788-6d1fa6edcbe8",
   "metadata": {},
   "outputs": [],
   "source": [
    "# Extract the header \n",
    "header = lines.first()"
   ]
  },
  {
   "cell_type": "code",
   "execution_count": 30,
   "id": "708dd727-7c08-475d-98ce-96c63e30cd19",
   "metadata": {},
   "outputs": [],
   "source": [
    "# Function to parse CSV lines and extract the ReportPeriod month, year, and Passenger_Count for specific terminals\n",
    "def parse_line(line):\n",
    "    try:\n",
    "        if line == header:\n",
    "            return None\n",
    "        fields = line.split(',')\n",
    "        report_period = fields[1]  # ReportPeriod is the second field\n",
    "        terminal = fields[2]  # Terminal is the third field\n",
    "        passenger_count = int(fields[5])  # Passenger_Count is the sixth field\n",
    "        \n",
    "        # Filter for terminals 1 to 8 and Tom Bradley International Terminal\n",
    "        valid_terminals = [f'Terminal {i}' for i in range(1, 9)] + ['Tom Bradley International Terminal']\n",
    "        if terminal in valid_terminals:\n",
    "            # Parse the date and format as \"Month YYYY\"\n",
    "            date_obj = datetime.strptime(report_period, '%m/%d/%Y %I:%M:%S %p')\n",
    "            month_year = date_obj.strftime('%B %Y')\n",
    "            return (month_year, passenger_count)\n",
    "        else:\n",
    "            return None\n",
    "    except Exception as e:\n",
    "        print(f\"Error parsing line: {line}, Error: {e}\")\n",
    "        return None"
   ]
  },
  {
   "cell_type": "code",
   "execution_count": 31,
   "id": "1a64bd82-e25d-46ae-8ad4-471237985f81",
   "metadata": {},
   "outputs": [],
   "source": [
    "# Parse the CSV lines and filter out invalid rows \n",
    "parsed_lines = lines.map(parse_line).filter(lambda x: x is not None)"
   ]
  },
  {
   "cell_type": "code",
   "execution_count": 32,
   "id": "1f9ae64d-6c77-41f2-834b-3cb465f7f76f",
   "metadata": {},
   "outputs": [],
   "source": [
    "# Aggregate data by month (sum the Passenger_Count) \n",
    "monthly_passenger_counts = parsed_lines.reduceByKey(lambda a, b: a + b)"
   ]
  },
  {
   "cell_type": "code",
   "execution_count": 36,
   "id": "4c127133-4347-4114-9c1d-9d7f99890104",
   "metadata": {},
   "outputs": [],
   "source": [
    "# Filter results to include only those with passenger counts over 5 million \n",
    "filtered_results = monthly_passenger_counts.filter(lambda x: x[1] > 5_000_000)"
   ]
  },
  {
   "cell_type": "code",
   "execution_count": 37,
   "id": "b709d2c1-71d5-4447-ad80-0ba104465715",
   "metadata": {},
   "outputs": [
    {
     "name": "stdout",
     "output_type": "stream",
     "text": [
      "Month-Year: March 2006, Total Passengers: 5088556\n",
      "Month-Year: April 2006, Total Passengers: 5085946\n",
      "Month-Year: June 2006, Total Passengers: 5509853\n",
      "Month-Year: July 2006, Total Passengers: 5919529\n",
      "Month-Year: August 2006, Total Passengers: 5745000\n",
      "Month-Year: December 2006, Total Passengers: 5070491\n",
      "Month-Year: March 2007, Total Passengers: 5240144\n",
      "Month-Year: May 2007, Total Passengers: 5256763\n",
      "Month-Year: June 2007, Total Passengers: 5626291\n",
      "Month-Year: July 2007, Total Passengers: 6052466\n",
      "Month-Year: October 2007, Total Passengers: 5069354\n",
      "Month-Year: March 2008, Total Passengers: 5232233\n",
      "Month-Year: June 2008, Total Passengers: 5538956\n",
      "Month-Year: August 2008, Total Passengers: 5714031\n",
      "Month-Year: June 2010, Total Passengers: 5311142\n",
      "Month-Year: April 2011, Total Passengers: 5028056\n",
      "Month-Year: May 2011, Total Passengers: 5476704\n",
      "Month-Year: July 2011, Total Passengers: 6071335\n",
      "Month-Year: August 2011, Total Passengers: 5918484\n",
      "Month-Year: December 2011, Total Passengers: 5025839\n",
      "Month-Year: March 2012, Total Passengers: 5252277\n",
      "Month-Year: May 2012, Total Passengers: 5412646\n",
      "Month-Year: July 2012, Total Passengers: 6190236\n",
      "Month-Year: September 2012, Total Passengers: 5053923\n",
      "Month-Year: October 2012, Total Passengers: 5190645\n",
      "Month-Year: March 2013, Total Passengers: 5385531\n",
      "Month-Year: May 2013, Total Passengers: 5557314\n",
      "Month-Year: August 2013, Total Passengers: 6160839\n",
      "Month-Year: January 2014, Total Passengers: 5263473\n",
      "Month-Year: April 2014, Total Passengers: 5614336\n",
      "Month-Year: July 2014, Total Passengers: 6709940\n",
      "Month-Year: September 2014, Total Passengers: 5478410\n",
      "Month-Year: November 2014, Total Passengers: 5288012\n",
      "Month-Year: January 2015, Total Passengers: 5339983\n",
      "Month-Year: May 2015, Total Passengers: 6148998\n",
      "Month-Year: August 2015, Total Passengers: 6902789\n",
      "Month-Year: September 2015, Total Passengers: 5852619\n",
      "Month-Year: October 2015, Total Passengers: 6183076\n",
      "Month-Year: December 2015, Total Passengers: 6196206\n",
      "Month-Year: March 2016, Total Passengers: 6277897\n",
      "Month-Year: October 2016, Total Passengers: 6629325\n",
      "Month-Year: November 2016, Total Passengers: 6272290\n",
      "Month-Year: January 2017, Total Passengers: 6213892\n",
      "Month-Year: May 2017, Total Passengers: 6933026\n",
      "Month-Year: August 2017, Total Passengers: 7674171\n",
      "Month-Year: May 2006, Total Passengers: 5176330\n",
      "Month-Year: April 2007, Total Passengers: 5172120\n",
      "Month-Year: August 2007, Total Passengers: 5939540\n",
      "Month-Year: December 2007, Total Passengers: 5186354\n",
      "Month-Year: May 2008, Total Passengers: 5247792\n",
      "Month-Year: July 2008, Total Passengers: 5790776\n",
      "Month-Year: June 2009, Total Passengers: 5040114\n",
      "Month-Year: July 2009, Total Passengers: 5603652\n",
      "Month-Year: August 2009, Total Passengers: 5437347\n",
      "Month-Year: July 2010, Total Passengers: 5692210\n",
      "Month-Year: August 2010, Total Passengers: 5617610\n",
      "Month-Year: December 2010, Total Passengers: 5045354\n",
      "Month-Year: June 2011, Total Passengers: 5631602\n",
      "Month-Year: October 2011, Total Passengers: 5124462\n",
      "Month-Year: April 2012, Total Passengers: 5160973\n",
      "Month-Year: June 2012, Total Passengers: 5739649\n",
      "Month-Year: August 2012, Total Passengers: 6093051\n",
      "Month-Year: December 2012, Total Passengers: 5176037\n",
      "Month-Year: April 2013, Total Passengers: 5157963\n",
      "Month-Year: June 2013, Total Passengers: 5947409\n",
      "Month-Year: July 2013, Total Passengers: 6292610\n",
      "Month-Year: September 2013, Total Passengers: 5159762\n",
      "Month-Year: October 2013, Total Passengers: 5386378\n",
      "Month-Year: December 2013, Total Passengers: 5606038\n",
      "Month-Year: March 2014, Total Passengers: 5622137\n",
      "Month-Year: May 2014, Total Passengers: 5925513\n",
      "Month-Year: June 2014, Total Passengers: 6373135\n",
      "Month-Year: August 2014, Total Passengers: 6595721\n",
      "Month-Year: October 2014, Total Passengers: 5766258\n",
      "Month-Year: December 2014, Total Passengers: 5825265\n",
      "Month-Year: March 2015, Total Passengers: 5916774\n",
      "Month-Year: April 2015, Total Passengers: 5746373\n",
      "Month-Year: June 2015, Total Passengers: 6579357\n",
      "Month-Year: July 2015, Total Passengers: 7063573\n",
      "Month-Year: November 2015, Total Passengers: 5838539\n",
      "Month-Year: January 2016, Total Passengers: 5869759\n",
      "Month-Year: February 2016, Total Passengers: 5280381\n",
      "Month-Year: April 2016, Total Passengers: 6109205\n",
      "Month-Year: May 2016, Total Passengers: 6571091\n",
      "Month-Year: June 2016, Total Passengers: 7230571\n",
      "Month-Year: July 2016, Total Passengers: 7621225\n",
      "Month-Year: August 2016, Total Passengers: 7344648\n",
      "Month-Year: September 2016, Total Passengers: 6375328\n",
      "Month-Year: December 2016, Total Passengers: 6640915\n",
      "Month-Year: February 2017, Total Passengers: 5387511\n",
      "Month-Year: March 2017, Total Passengers: 6525366\n",
      "Month-Year: April 2017, Total Passengers: 6640015\n",
      "Month-Year: June 2017, Total Passengers: 7470964\n",
      "Month-Year: July 2017, Total Passengers: 7910993\n"
     ]
    }
   ],
   "source": [
    "# Collect and print the result\n",
    "try:\n",
    "    results = filtered_results.collect()\n",
    "    for result in results:\n",
    "        print(f\"Month-Year: {result[0]}, Total Passengers: {result[1]}\")\n",
    "except Exception as e:\n",
    "    print(f\"Error collecting results: {e}\")\n"
   ]
  }
 ],
 "metadata": {
  "kernelspec": {
   "display_name": "Python 3 (ipykernel)",
   "language": "python",
   "name": "python3"
  },
  "language_info": {
   "codemirror_mode": {
    "name": "ipython",
    "version": 3
   },
   "file_extension": ".py",
   "mimetype": "text/x-python",
   "name": "python",
   "nbconvert_exporter": "python",
   "pygments_lexer": "ipython3",
   "version": "3.12.3"
  }
 },
 "nbformat": 4,
 "nbformat_minor": 5
}
