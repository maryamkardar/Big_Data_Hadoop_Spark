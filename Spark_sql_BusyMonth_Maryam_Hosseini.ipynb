{
 "cells": [
  {
   "cell_type": "code",
   "execution_count": 72,
   "id": "66a89b37-f419-4ce5-8f52-04f0115f881d",
   "metadata": {},
   "outputs": [],
   "source": [
    "from pyspark.sql import SparkSession"
   ]
  },
  {
   "cell_type": "code",
   "execution_count": 73,
   "id": "9fff4890-ab35-4ada-8bb0-d3b96bd559e3",
   "metadata": {},
   "outputs": [],
   "source": [
    "from pyspark.sql.functions import *"
   ]
  },
  {
   "cell_type": "code",
   "execution_count": 74,
   "id": "868e2423-2721-40a4-b20c-e12cc05dc045",
   "metadata": {},
   "outputs": [],
   "source": [
    "from datetime import datetime"
   ]
  },
  {
   "cell_type": "code",
   "execution_count": 75,
   "id": "7c89540b-58b9-4a40-8bb1-6bf75600ab94",
   "metadata": {},
   "outputs": [],
   "source": [
    "spark = SparkSession.builder.master('local[*]').appName('Terminal with sql').getOrCreate()"
   ]
  },
  {
   "cell_type": "code",
   "execution_count": 53,
   "id": "6b949add-fef9-43ab-b545-588bfbda9199",
   "metadata": {},
   "outputs": [
    {
     "name": "stdout",
     "output_type": "stream",
     "text": [
      "Spark Version: 3.5.3\n"
     ]
    }
   ],
   "source": [
    "spark_version = spark.version \n",
    "print(f\"Spark Version: {spark_version}\")"
   ]
  },
  {
   "cell_type": "code",
   "execution_count": 76,
   "id": "197c74a1-219c-4fb1-a4e8-219c2b9882af",
   "metadata": {},
   "outputs": [],
   "source": [
    "terminal_df = spark.read.options(header=True, inferSchema=True).csv('/home/maryam/content/lax_passengers_header.csv')"
   ]
  },
  {
   "cell_type": "code",
   "execution_count": 77,
   "id": "cf1ea12e-ff86-4428-8c05-699bd54942ca",
   "metadata": {},
   "outputs": [
    {
     "name": "stdout",
     "output_type": "stream",
     "text": [
      "+--------------------+--------------------+-----------------+-----------------+----------------------+---------------+\n",
      "|     DataExtractDate|        ReportPeriod|         Terminal|Arrival_Departure|Domestic_International|Passenger_Count|\n",
      "+--------------------+--------------------+-----------------+-----------------+----------------------+---------------+\n",
      "|05/01/2014 12:00:...|01/01/2006 12:00:...|Imperial Terminal|          Arrival|              Domestic|            490|\n",
      "|05/01/2014 12:00:...|01/01/2006 12:00:...|Imperial Terminal|        Departure|              Domestic|            498|\n",
      "|05/01/2014 12:00:...|01/01/2006 12:00:...|   Misc. Terminal|          Arrival|              Domestic|            753|\n",
      "|05/01/2014 12:00:...|01/01/2006 12:00:...|   Misc. Terminal|        Departure|              Domestic|            688|\n",
      "|05/01/2014 12:00:...|01/01/2006 12:00:...|       Terminal 1|          Arrival|              Domestic|         401535|\n",
      "|05/01/2014 12:00:...|01/01/2006 12:00:...|       Terminal 1|        Departure|              Domestic|         389745|\n",
      "|05/01/2014 12:00:...|01/01/2006 12:00:...|       Terminal 1|        Departure|         International|            561|\n",
      "|05/01/2014 12:00:...|01/01/2006 12:00:...|       Terminal 2|          Arrival|              Domestic|          98991|\n",
      "|05/01/2014 12:00:...|01/01/2006 12:00:...|       Terminal 2|          Arrival|         International|         163067|\n",
      "|05/01/2014 12:00:...|01/01/2006 12:00:...|       Terminal 2|        Departure|              Domestic|          93672|\n",
      "+--------------------+--------------------+-----------------+-----------------+----------------------+---------------+\n",
      "only showing top 10 rows\n",
      "\n"
     ]
    }
   ],
   "source": [
    "terminal_df.show(10)"
   ]
  },
  {
   "cell_type": "code",
   "execution_count": 78,
   "id": "ac184bdb-d8b3-4bb5-a345-6ba91b4e571d",
   "metadata": {},
   "outputs": [],
   "source": [
    "terminals = ['Terminal 1', 'Terminal 2', 'Terminal 3', 'Terminal 4', 'Terminal 5', 'Terminal 6', 'Terminal 7', 'Terminal 8', 'Tom Bradley International Terminal']\n"
   ]
  },
  {
   "cell_type": "code",
   "execution_count": 79,
   "id": "30c4a988-f3d7-452b-86b3-8ddb5d70bcd2",
   "metadata": {},
   "outputs": [],
   "source": [
    "filtered_df = terminal_df.filter(col(\"Terminal\").isin(terminals)).select('ReportPeriod', 'Passenger_Count', 'Terminal')\n",
    "\n"
   ]
  },
  {
   "cell_type": "code",
   "execution_count": 80,
   "id": "bf2f270f-faf1-4643-bd09-73842215da18",
   "metadata": {},
   "outputs": [
    {
     "name": "stdout",
     "output_type": "stream",
     "text": [
      "+--------------------+---------------+----------+\n",
      "|        ReportPeriod|Passenger_Count|  Terminal|\n",
      "+--------------------+---------------+----------+\n",
      "|01/01/2006 12:00:...|         401535|Terminal 1|\n",
      "|01/01/2006 12:00:...|         389745|Terminal 1|\n",
      "|01/01/2006 12:00:...|            561|Terminal 1|\n",
      "|01/01/2006 12:00:...|          98991|Terminal 2|\n",
      "|01/01/2006 12:00:...|         163067|Terminal 2|\n",
      "|01/01/2006 12:00:...|          93672|Terminal 2|\n",
      "|01/01/2006 12:00:...|         156751|Terminal 2|\n",
      "|01/01/2006 12:00:...|         121649|Terminal 3|\n",
      "|01/01/2006 12:00:...|          26585|Terminal 3|\n",
      "|01/01/2006 12:00:...|         120111|Terminal 3|\n",
      "+--------------------+---------------+----------+\n",
      "only showing top 10 rows\n",
      "\n"
     ]
    }
   ],
   "source": [
    "filtered_df.show(10)"
   ]
  },
  {
   "cell_type": "code",
   "execution_count": 81,
   "id": "4b5a47e4-fa7c-403d-ae6d-f77b52dbd574",
   "metadata": {},
   "outputs": [],
   "source": [
    "spark.conf.set(\"spark.sql.legacy.timeParserPolicy\", \"LEGACY\")"
   ]
  },
  {
   "cell_type": "code",
   "execution_count": 82,
   "id": "32aa732f-6fef-4849-9620-ceaec8b6cc18",
   "metadata": {},
   "outputs": [],
   "source": [
    "df = filtered_df.withColumn(\"MonthYear\", date_format(to_timestamp(col(\"ReportPeriod\"), \"MM/dd/yyyy HH:mm:ss\"), \"MMM yyyy\"))"
   ]
  },
  {
   "cell_type": "code",
   "execution_count": 83,
   "id": "f9d825a4-1dfd-4c06-8f56-36b25a2f268d",
   "metadata": {},
   "outputs": [
    {
     "name": "stdout",
     "output_type": "stream",
     "text": [
      "+--------------------+---------------+----------+---------+\n",
      "|        ReportPeriod|Passenger_Count|  Terminal|MonthYear|\n",
      "+--------------------+---------------+----------+---------+\n",
      "|01/01/2006 12:00:...|         401535|Terminal 1| Jan 2006|\n",
      "|01/01/2006 12:00:...|         389745|Terminal 1| Jan 2006|\n",
      "|01/01/2006 12:00:...|            561|Terminal 1| Jan 2006|\n",
      "|01/01/2006 12:00:...|          98991|Terminal 2| Jan 2006|\n",
      "|01/01/2006 12:00:...|         163067|Terminal 2| Jan 2006|\n",
      "+--------------------+---------------+----------+---------+\n",
      "only showing top 5 rows\n",
      "\n"
     ]
    }
   ],
   "source": [
    "df.show(5)"
   ]
  },
  {
   "cell_type": "code",
   "execution_count": 84,
   "id": "6e640df7-d3fd-436f-a1fc-ef59d72d53be",
   "metadata": {},
   "outputs": [],
   "source": [
    "monthly_passenger_count = df.groupBy(\"MonthYear\").agg(sum(\"Passenger_Count\").alias(\"TotalPassengers\")) "
   ]
  },
  {
   "cell_type": "code",
   "execution_count": 85,
   "id": "83905db5-0167-49de-bdfb-5b767071bafc",
   "metadata": {},
   "outputs": [
    {
     "name": "stdout",
     "output_type": "stream",
     "text": [
      "+---------+---------------+\n",
      "|MonthYear|TotalPassengers|\n",
      "+---------+---------------+\n",
      "| Jul 2016|        7621225|\n",
      "| Nov 2013|        4914225|\n",
      "| Feb 2011|        4121301|\n",
      "| May 2007|        5256763|\n",
      "| Apr 2017|        6640015|\n",
      "| Apr 2008|        4949007|\n",
      "| Dec 2014|        5825265|\n",
      "| May 2016|        6571091|\n",
      "| Aug 2011|        5918484|\n",
      "| Sep 2012|        5053923|\n",
      "+---------+---------------+\n",
      "only showing top 10 rows\n",
      "\n"
     ]
    }
   ],
   "source": [
    "monthly_passenger_count.show(10)"
   ]
  },
  {
   "cell_type": "code",
   "execution_count": 86,
   "id": "8553b0bc-e541-4601-b1b9-64ce5c31aab9",
   "metadata": {},
   "outputs": [],
   "source": [
    "df.createOrReplaceTempView(\"filtered_terminals\")"
   ]
  },
  {
   "cell_type": "code",
   "execution_count": 87,
   "id": "f2712179-1666-4d98-bfd9-b804f743a00a",
   "metadata": {},
   "outputs": [],
   "source": [
    "monthly_passenger_count = spark.sql(\"SELECT MonthYear, SUM(Passenger_Count) AS TotalPassengers FROM filtered_terminals GROUP BY MonthYear\")"
   ]
  },
  {
   "cell_type": "code",
   "execution_count": 88,
   "id": "f94969c7-50a7-44d6-98e3-a31b2c0a6184",
   "metadata": {},
   "outputs": [
    {
     "name": "stdout",
     "output_type": "stream",
     "text": [
      "+---------+---------------+\n",
      "|MonthYear|TotalPassengers|\n",
      "+---------+---------------+\n",
      "| Jul 2016|        7621225|\n",
      "| Nov 2013|        4914225|\n",
      "| Feb 2011|        4121301|\n",
      "| May 2007|        5256763|\n",
      "| Apr 2017|        6640015|\n",
      "| Apr 2008|        4949007|\n",
      "| Dec 2014|        5825265|\n",
      "| May 2016|        6571091|\n",
      "| Aug 2011|        5918484|\n",
      "| Sep 2012|        5053923|\n",
      "+---------+---------------+\n",
      "only showing top 10 rows\n",
      "\n"
     ]
    }
   ],
   "source": [
    "monthly_passenger_count.show(10)"
   ]
  },
  {
   "cell_type": "code",
   "execution_count": 70,
   "id": "ad79c871-b367-4b2f-9129-4ac85de42927",
   "metadata": {},
   "outputs": [],
   "source": [
    "monthly_passenger_count.write.csv(\"/home/maryam/content/passenger_count-spark.sql.csv\", header=True)"
   ]
  },
  {
   "cell_type": "code",
   "execution_count": 89,
   "id": "57d749d6-9b1c-4794-90b7-91965da2c89a",
   "metadata": {},
   "outputs": [],
   "source": [
    "spark.stop()"
   ]
  }
 ],
 "metadata": {
  "kernelspec": {
   "display_name": "Python 3 (ipykernel)",
   "language": "python",
   "name": "python3"
  },
  "language_info": {
   "codemirror_mode": {
    "name": "ipython",
    "version": 3
   },
   "file_extension": ".py",
   "mimetype": "text/x-python",
   "name": "python",
   "nbconvert_exporter": "python",
   "pygments_lexer": "ipython3",
   "version": "3.12.3"
  }
 },
 "nbformat": 4,
 "nbformat_minor": 5
}
