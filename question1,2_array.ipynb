{
 "cells": [
  {
   "cell_type": "code",
   "execution_count": 1,
   "id": "fb4b6e06-c8a0-4f93-9f3f-1d68bc4f6b83",
   "metadata": {},
   "outputs": [],
   "source": [
    "from pyspark.sql import SparkSession\n",
    "from pyspark.sql.functions import *\n",
    "from pyspark.sql.types import *"
   ]
  },
  {
   "cell_type": "code",
   "execution_count": 2,
   "id": "07ad2bbe-4781-4358-ae28-041ae2adfc44",
   "metadata": {
    "scrolled": true
   },
   "outputs": [
    {
     "name": "stderr",
     "output_type": "stream",
     "text": [
      "Setting default log level to \"WARN\".\n",
      "To adjust logging level use sc.setLogLevel(newLevel). For SparkR, use setLogLevel(newLevel).\n",
      "24/12/24 12:56:50 WARN NativeCodeLoader: Unable to load native-hadoop library for your platform... using builtin-java classes where applicable\n"
     ]
    }
   ],
   "source": [
    "spark = SparkSession.builder.master('local[*]').appName('Question 1 array').getOrCreate()"
   ]
  },
  {
   "cell_type": "code",
   "execution_count": 3,
   "id": "ccd2866b-3eea-486d-919a-3e02ae0ac7b1",
   "metadata": {},
   "outputs": [
    {
     "name": "stderr",
     "output_type": "stream",
     "text": [
      "                                                                                "
     ]
    }
   ],
   "source": [
    "rating_df = spark.read.options(sep=';', header=True, inferSchema=True).csv('/home/maryam/content/BooksRating-CSV/Book-Ratings.csv')"
   ]
  },
  {
   "cell_type": "code",
   "execution_count": 4,
   "id": "3bb4cd86-43bc-4d36-a2ed-d834035e9812",
   "metadata": {},
   "outputs": [
    {
     "data": {
      "text/plain": [
       "['userid', 'isbn', 'rate']"
      ]
     },
     "execution_count": 4,
     "metadata": {},
     "output_type": "execute_result"
    }
   ],
   "source": [
    "rating_df.columns"
   ]
  },
  {
   "cell_type": "code",
   "execution_count": 5,
   "id": "70ed75a4-7cd7-4615-a346-dd2bbecd107d",
   "metadata": {
    "scrolled": true
   },
   "outputs": [],
   "source": [
    "rating_df_userid = rating_df.filter(rating_df['userid'] == 276762)"
   ]
  },
  {
   "cell_type": "code",
   "execution_count": 14,
   "id": "a08c17ee-4c70-4441-8969-8416f367519d",
   "metadata": {},
   "outputs": [
    {
     "name": "stdout",
     "output_type": "stream",
     "text": [
      "+------+-----------+----+\n",
      "|userid|       isbn|rate|\n",
      "+------+-----------+----+\n",
      "|276762| 034544003X|   0|\n",
      "|276762| 0380000059|   0|\n",
      "|276762| 0380711524|   5|\n",
      "|276762| 0451167317|   0|\n",
      "|276762| 0451454952|   0|\n",
      "|276762| 0843920262|   0|\n",
      "|276762| 3404122879|   0|\n",
      "|276762| 3404182928|   0|\n",
      "|276762| 3404611306|   0|\n",
      "|276762|  342662429|   0|\n",
      "|276762| 3426690179|   0|\n",
      "|276762| 3442424216|   0|\n",
      "|276762| 3442425573|   0|\n",
      "|276762| 3453092007|   8|\n",
      "|276762| 3453157745|   0|\n",
      "|276762| 3453176944|   0|\n",
      "|276762| 3453185137|   0|\n",
      "|276762| 3453185323|   0|\n",
      "|276762| 3453213025|   3|\n",
      "|276762| 3453877241|   0|\n",
      "|276762| 3492226604|   0|\n",
      "|276762| 3517017442|   0|\n",
      "|276762| 3596125006|   0|\n",
      "|276762| B0000BLD7X|   0|\n",
      "|276762|N3453124715|   4|\n",
      "+------+-----------+----+\n",
      "\n"
     ]
    }
   ],
   "source": [
    "rating_df_userid.show(25)"
   ]
  },
  {
   "cell_type": "code",
   "execution_count": 9,
   "id": "954c7387-1b61-4aee-a3ef-cf3f9826ee57",
   "metadata": {},
   "outputs": [],
   "source": [
    "# Group by 'userid' and collect 'rate' values into an array\n",
    "grouped_df = rating_df_userid.groupBy(\"userid\").agg(collect_list(\"rate\").alias(\"rates\"))"
   ]
  },
  {
   "cell_type": "code",
   "execution_count": 12,
   "id": "f1de3841-3d8a-48f8-b547-563bac24778a",
   "metadata": {
    "scrolled": true
   },
   "outputs": [
    {
     "name": "stdout",
     "output_type": "stream",
     "text": [
      "+------+---------------------------------------------------------------------------+\n",
      "|userid|rates                                                                      |\n",
      "+------+---------------------------------------------------------------------------+\n",
      "|276762|[0, 0, 5, 0, 0, 0, 0, 0, 0, 0, 0, 0, 0, 8, 0, 0, 0, 0, 3, 0, 0, 0, 0, 0, 4]|\n",
      "+------+---------------------------------------------------------------------------+\n",
      "\n"
     ]
    },
    {
     "name": "stderr",
     "output_type": "stream",
     "text": [
      "                                                                                "
     ]
    }
   ],
   "source": [
    "grouped_df.show(truncate=False)"
   ]
  },
  {
   "cell_type": "code",
   "execution_count": 22,
   "id": "4e4bd0bf-d40c-44b9-a714-552e155cc7ad",
   "metadata": {},
   "outputs": [],
   "source": [
    "# Join back to the original DataFrame to ensure each row has the array \n",
    "final_df = rating_df_userid.join(grouped_df, on=\"userid\")"
   ]
  },
  {
   "cell_type": "code",
   "execution_count": 25,
   "id": "4af33b09-4c22-4477-bc12-0a874f6398dd",
   "metadata": {},
   "outputs": [
    {
     "name": "stderr",
     "output_type": "stream",
     "text": [
      "                                                                                "
     ]
    },
    {
     "name": "stdout",
     "output_type": "stream",
     "text": [
      "+------+-----------+----+---------------------------------------------------------------------------+\n",
      "|userid|isbn       |rate|rates                                                                      |\n",
      "+------+-----------+----+---------------------------------------------------------------------------+\n",
      "|276762|034544003X |0   |[0, 0, 5, 0, 0, 0, 0, 0, 0, 0, 0, 0, 0, 8, 0, 0, 0, 0, 3, 0, 0, 0, 0, 0, 4]|\n",
      "|276762|0380000059 |0   |[0, 0, 5, 0, 0, 0, 0, 0, 0, 0, 0, 0, 0, 8, 0, 0, 0, 0, 3, 0, 0, 0, 0, 0, 4]|\n",
      "|276762|0380711524 |5   |[0, 0, 5, 0, 0, 0, 0, 0, 0, 0, 0, 0, 0, 8, 0, 0, 0, 0, 3, 0, 0, 0, 0, 0, 4]|\n",
      "|276762|0451167317 |0   |[0, 0, 5, 0, 0, 0, 0, 0, 0, 0, 0, 0, 0, 8, 0, 0, 0, 0, 3, 0, 0, 0, 0, 0, 4]|\n",
      "|276762|0451454952 |0   |[0, 0, 5, 0, 0, 0, 0, 0, 0, 0, 0, 0, 0, 8, 0, 0, 0, 0, 3, 0, 0, 0, 0, 0, 4]|\n",
      "|276762|0843920262 |0   |[0, 0, 5, 0, 0, 0, 0, 0, 0, 0, 0, 0, 0, 8, 0, 0, 0, 0, 3, 0, 0, 0, 0, 0, 4]|\n",
      "|276762|3404122879 |0   |[0, 0, 5, 0, 0, 0, 0, 0, 0, 0, 0, 0, 0, 8, 0, 0, 0, 0, 3, 0, 0, 0, 0, 0, 4]|\n",
      "|276762|3404182928 |0   |[0, 0, 5, 0, 0, 0, 0, 0, 0, 0, 0, 0, 0, 8, 0, 0, 0, 0, 3, 0, 0, 0, 0, 0, 4]|\n",
      "|276762|3404611306 |0   |[0, 0, 5, 0, 0, 0, 0, 0, 0, 0, 0, 0, 0, 8, 0, 0, 0, 0, 3, 0, 0, 0, 0, 0, 4]|\n",
      "|276762|342662429  |0   |[0, 0, 5, 0, 0, 0, 0, 0, 0, 0, 0, 0, 0, 8, 0, 0, 0, 0, 3, 0, 0, 0, 0, 0, 4]|\n",
      "|276762|3426690179 |0   |[0, 0, 5, 0, 0, 0, 0, 0, 0, 0, 0, 0, 0, 8, 0, 0, 0, 0, 3, 0, 0, 0, 0, 0, 4]|\n",
      "|276762|3442424216 |0   |[0, 0, 5, 0, 0, 0, 0, 0, 0, 0, 0, 0, 0, 8, 0, 0, 0, 0, 3, 0, 0, 0, 0, 0, 4]|\n",
      "|276762|3442425573 |0   |[0, 0, 5, 0, 0, 0, 0, 0, 0, 0, 0, 0, 0, 8, 0, 0, 0, 0, 3, 0, 0, 0, 0, 0, 4]|\n",
      "|276762|3453092007 |8   |[0, 0, 5, 0, 0, 0, 0, 0, 0, 0, 0, 0, 0, 8, 0, 0, 0, 0, 3, 0, 0, 0, 0, 0, 4]|\n",
      "|276762|3453157745 |0   |[0, 0, 5, 0, 0, 0, 0, 0, 0, 0, 0, 0, 0, 8, 0, 0, 0, 0, 3, 0, 0, 0, 0, 0, 4]|\n",
      "|276762|3453176944 |0   |[0, 0, 5, 0, 0, 0, 0, 0, 0, 0, 0, 0, 0, 8, 0, 0, 0, 0, 3, 0, 0, 0, 0, 0, 4]|\n",
      "|276762|3453185137 |0   |[0, 0, 5, 0, 0, 0, 0, 0, 0, 0, 0, 0, 0, 8, 0, 0, 0, 0, 3, 0, 0, 0, 0, 0, 4]|\n",
      "|276762|3453185323 |0   |[0, 0, 5, 0, 0, 0, 0, 0, 0, 0, 0, 0, 0, 8, 0, 0, 0, 0, 3, 0, 0, 0, 0, 0, 4]|\n",
      "|276762|3453213025 |3   |[0, 0, 5, 0, 0, 0, 0, 0, 0, 0, 0, 0, 0, 8, 0, 0, 0, 0, 3, 0, 0, 0, 0, 0, 4]|\n",
      "|276762|3453877241 |0   |[0, 0, 5, 0, 0, 0, 0, 0, 0, 0, 0, 0, 0, 8, 0, 0, 0, 0, 3, 0, 0, 0, 0, 0, 4]|\n",
      "|276762|3492226604 |0   |[0, 0, 5, 0, 0, 0, 0, 0, 0, 0, 0, 0, 0, 8, 0, 0, 0, 0, 3, 0, 0, 0, 0, 0, 4]|\n",
      "|276762|3517017442 |0   |[0, 0, 5, 0, 0, 0, 0, 0, 0, 0, 0, 0, 0, 8, 0, 0, 0, 0, 3, 0, 0, 0, 0, 0, 4]|\n",
      "|276762|3596125006 |0   |[0, 0, 5, 0, 0, 0, 0, 0, 0, 0, 0, 0, 0, 8, 0, 0, 0, 0, 3, 0, 0, 0, 0, 0, 4]|\n",
      "|276762|B0000BLD7X |0   |[0, 0, 5, 0, 0, 0, 0, 0, 0, 0, 0, 0, 0, 8, 0, 0, 0, 0, 3, 0, 0, 0, 0, 0, 4]|\n",
      "|276762|N3453124715|4   |[0, 0, 5, 0, 0, 0, 0, 0, 0, 0, 0, 0, 0, 8, 0, 0, 0, 0, 3, 0, 0, 0, 0, 0, 4]|\n",
      "+------+-----------+----+---------------------------------------------------------------------------+\n",
      "\n"
     ]
    }
   ],
   "source": [
    "final_df.show(25, truncate=False)"
   ]
  },
  {
   "cell_type": "markdown",
   "id": "73d67866-3c7e-4a4e-abb6-ef1449665b42",
   "metadata": {},
   "source": [
    "# question 2"
   ]
  },
  {
   "cell_type": "code",
   "execution_count": 29,
   "id": "6c5373d2-dcd2-476a-b810-2a11c8ef189b",
   "metadata": {},
   "outputs": [],
   "source": [
    "# Group by 'userid' and collect 'rate' values into an array\n",
    "grouped_df = rating_df_userid.groupBy(\"userid\").agg(collect_list(\"rate\").alias(\"rates\"))"
   ]
  },
  {
   "cell_type": "code",
   "execution_count": 30,
   "id": "520705e3-b4f4-4ccb-99f4-91cf82fdb034",
   "metadata": {},
   "outputs": [
    {
     "name": "stdout",
     "output_type": "stream",
     "text": [
      "+------+---------------------------------------------------------------------------+\n",
      "|userid|rates                                                                      |\n",
      "+------+---------------------------------------------------------------------------+\n",
      "|276762|[0, 0, 5, 0, 0, 0, 0, 0, 0, 0, 0, 0, 0, 8, 0, 0, 0, 0, 3, 0, 0, 0, 0, 0, 4]|\n",
      "+------+---------------------------------------------------------------------------+\n",
      "\n"
     ]
    }
   ],
   "source": [
    "grouped_df.show(truncate=False)"
   ]
  },
  {
   "cell_type": "code",
   "execution_count": 33,
   "id": "0a32c7a7-9a11-437b-8bb8-3c884da3c4df",
   "metadata": {},
   "outputs": [],
   "source": [
    "# Example 2: Explode array into multiple rows \n",
    "exploded_df = grouped_df.withColumn(\"rate\", explode(col(\"rates\"))).drop('rates') "
   ]
  },
  {
   "cell_type": "code",
   "execution_count": 35,
   "id": "8db80060-5fc9-4947-a669-60f902ee96a7",
   "metadata": {},
   "outputs": [
    {
     "name": "stdout",
     "output_type": "stream",
     "text": [
      "+------+----+\n",
      "|userid|rate|\n",
      "+------+----+\n",
      "|276762|   0|\n",
      "|276762|   0|\n",
      "|276762|   5|\n",
      "|276762|   0|\n",
      "|276762|   0|\n",
      "|276762|   0|\n",
      "|276762|   0|\n",
      "|276762|   0|\n",
      "|276762|   0|\n",
      "|276762|   0|\n",
      "|276762|   0|\n",
      "|276762|   0|\n",
      "|276762|   0|\n",
      "|276762|   8|\n",
      "|276762|   0|\n",
      "|276762|   0|\n",
      "|276762|   0|\n",
      "|276762|   0|\n",
      "|276762|   3|\n",
      "|276762|   0|\n",
      "|276762|   0|\n",
      "|276762|   0|\n",
      "|276762|   0|\n",
      "|276762|   0|\n",
      "|276762|   4|\n",
      "+------+----+\n",
      "\n"
     ]
    }
   ],
   "source": [
    "exploded_df.show(25)"
   ]
  },
  {
   "cell_type": "code",
   "execution_count": null,
   "id": "4e83b0d7-7171-4e78-9e0f-1dc8955c3ffe",
   "metadata": {},
   "outputs": [],
   "source": []
  }
 ],
 "metadata": {
  "kernelspec": {
   "display_name": "Python 3 (ipykernel)",
   "language": "python",
   "name": "python3"
  },
  "language_info": {
   "codemirror_mode": {
    "name": "ipython",
    "version": 3
   },
   "file_extension": ".py",
   "mimetype": "text/x-python",
   "name": "python",
   "nbconvert_exporter": "python",
   "pygments_lexer": "ipython3",
   "version": "3.12.3"
  }
 },
 "nbformat": 4,
 "nbformat_minor": 5
}
