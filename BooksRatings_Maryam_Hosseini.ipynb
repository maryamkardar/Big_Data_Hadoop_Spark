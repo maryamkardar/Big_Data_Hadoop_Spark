{
 "cells": [
  {
   "cell_type": "code",
   "execution_count": 15,
   "id": "6329754e-612c-4cbb-abf2-bc13f17d2710",
   "metadata": {},
   "outputs": [],
   "source": [
    "from pyspark import SparkContext"
   ]
  },
  {
   "cell_type": "code",
   "execution_count": 16,
   "id": "7a008012-15be-4c96-9820-f34514fc139a",
   "metadata": {},
   "outputs": [
    {
     "ename": "ValueError",
     "evalue": "Cannot run multiple SparkContexts at once; existing SparkContext(app=BooksRatingsJoin, master=local[*]) created by __init__ at /tmp/ipykernel_49729/930124118.py:2 ",
     "output_type": "error",
     "traceback": [
      "\u001b[0;31m---------------------------------------------------------------------------\u001b[0m",
      "\u001b[0;31mValueError\u001b[0m                                Traceback (most recent call last)",
      "Cell \u001b[0;32mIn[16], line 2\u001b[0m\n\u001b[1;32m      1\u001b[0m \u001b[38;5;66;03m# Initialize SparkContext\u001b[39;00m\n\u001b[0;32m----> 2\u001b[0m sc \u001b[38;5;241m=\u001b[39m \u001b[43mSparkContext\u001b[49m\u001b[43m(\u001b[49m\u001b[43mappName\u001b[49m\u001b[38;5;241;43m=\u001b[39;49m\u001b[38;5;124;43m\"\u001b[39;49m\u001b[38;5;124;43mBooksRatingsJoin\u001b[39;49m\u001b[38;5;124;43m\"\u001b[39;49m\u001b[43m)\u001b[49m\n",
      "File \u001b[0;32m~/spark/myvenv/lib/python3.12/site-packages/pyspark/context.py:201\u001b[0m, in \u001b[0;36mSparkContext.__init__\u001b[0;34m(self, master, appName, sparkHome, pyFiles, environment, batchSize, serializer, conf, gateway, jsc, profiler_cls, udf_profiler_cls, memory_profiler_cls)\u001b[0m\n\u001b[1;32m    195\u001b[0m \u001b[38;5;28;01mif\u001b[39;00m gateway \u001b[38;5;129;01mis\u001b[39;00m \u001b[38;5;129;01mnot\u001b[39;00m \u001b[38;5;28;01mNone\u001b[39;00m \u001b[38;5;129;01mand\u001b[39;00m gateway\u001b[38;5;241m.\u001b[39mgateway_parameters\u001b[38;5;241m.\u001b[39mauth_token \u001b[38;5;129;01mis\u001b[39;00m \u001b[38;5;28;01mNone\u001b[39;00m:\n\u001b[1;32m    196\u001b[0m     \u001b[38;5;28;01mraise\u001b[39;00m \u001b[38;5;167;01mValueError\u001b[39;00m(\n\u001b[1;32m    197\u001b[0m         \u001b[38;5;124m\"\u001b[39m\u001b[38;5;124mYou are trying to pass an insecure Py4j gateway to Spark. This\u001b[39m\u001b[38;5;124m\"\u001b[39m\n\u001b[1;32m    198\u001b[0m         \u001b[38;5;124m\"\u001b[39m\u001b[38;5;124m is not allowed as it is a security risk.\u001b[39m\u001b[38;5;124m\"\u001b[39m\n\u001b[1;32m    199\u001b[0m     )\n\u001b[0;32m--> 201\u001b[0m \u001b[43mSparkContext\u001b[49m\u001b[38;5;241;43m.\u001b[39;49m\u001b[43m_ensure_initialized\u001b[49m\u001b[43m(\u001b[49m\u001b[38;5;28;43mself\u001b[39;49m\u001b[43m,\u001b[49m\u001b[43m \u001b[49m\u001b[43mgateway\u001b[49m\u001b[38;5;241;43m=\u001b[39;49m\u001b[43mgateway\u001b[49m\u001b[43m,\u001b[49m\u001b[43m \u001b[49m\u001b[43mconf\u001b[49m\u001b[38;5;241;43m=\u001b[39;49m\u001b[43mconf\u001b[49m\u001b[43m)\u001b[49m\n\u001b[1;32m    202\u001b[0m \u001b[38;5;28;01mtry\u001b[39;00m:\n\u001b[1;32m    203\u001b[0m     \u001b[38;5;28mself\u001b[39m\u001b[38;5;241m.\u001b[39m_do_init(\n\u001b[1;32m    204\u001b[0m         master,\n\u001b[1;32m    205\u001b[0m         appName,\n\u001b[0;32m   (...)\u001b[0m\n\u001b[1;32m    215\u001b[0m         memory_profiler_cls,\n\u001b[1;32m    216\u001b[0m     )\n",
      "File \u001b[0;32m~/spark/myvenv/lib/python3.12/site-packages/pyspark/context.py:449\u001b[0m, in \u001b[0;36mSparkContext._ensure_initialized\u001b[0;34m(cls, instance, gateway, conf)\u001b[0m\n\u001b[1;32m    446\u001b[0m     callsite \u001b[38;5;241m=\u001b[39m SparkContext\u001b[38;5;241m.\u001b[39m_active_spark_context\u001b[38;5;241m.\u001b[39m_callsite\n\u001b[1;32m    448\u001b[0m     \u001b[38;5;66;03m# Raise error if there is already a running Spark context\u001b[39;00m\n\u001b[0;32m--> 449\u001b[0m     \u001b[38;5;28;01mraise\u001b[39;00m \u001b[38;5;167;01mValueError\u001b[39;00m(\n\u001b[1;32m    450\u001b[0m         \u001b[38;5;124m\"\u001b[39m\u001b[38;5;124mCannot run multiple SparkContexts at once; \u001b[39m\u001b[38;5;124m\"\u001b[39m\n\u001b[1;32m    451\u001b[0m         \u001b[38;5;124m\"\u001b[39m\u001b[38;5;124mexisting SparkContext(app=\u001b[39m\u001b[38;5;132;01m%s\u001b[39;00m\u001b[38;5;124m, master=\u001b[39m\u001b[38;5;132;01m%s\u001b[39;00m\u001b[38;5;124m)\u001b[39m\u001b[38;5;124m\"\u001b[39m\n\u001b[1;32m    452\u001b[0m         \u001b[38;5;124m\"\u001b[39m\u001b[38;5;124m created by \u001b[39m\u001b[38;5;132;01m%s\u001b[39;00m\u001b[38;5;124m at \u001b[39m\u001b[38;5;132;01m%s\u001b[39;00m\u001b[38;5;124m:\u001b[39m\u001b[38;5;132;01m%s\u001b[39;00m\u001b[38;5;124m \u001b[39m\u001b[38;5;124m\"\u001b[39m\n\u001b[1;32m    453\u001b[0m         \u001b[38;5;241m%\u001b[39m (\n\u001b[1;32m    454\u001b[0m             currentAppName,\n\u001b[1;32m    455\u001b[0m             currentMaster,\n\u001b[1;32m    456\u001b[0m             callsite\u001b[38;5;241m.\u001b[39mfunction,\n\u001b[1;32m    457\u001b[0m             callsite\u001b[38;5;241m.\u001b[39mfile,\n\u001b[1;32m    458\u001b[0m             callsite\u001b[38;5;241m.\u001b[39mlinenum,\n\u001b[1;32m    459\u001b[0m         )\n\u001b[1;32m    460\u001b[0m     )\n\u001b[1;32m    461\u001b[0m \u001b[38;5;28;01melse\u001b[39;00m:\n\u001b[1;32m    462\u001b[0m     SparkContext\u001b[38;5;241m.\u001b[39m_active_spark_context \u001b[38;5;241m=\u001b[39m instance\n",
      "\u001b[0;31mValueError\u001b[0m: Cannot run multiple SparkContexts at once; existing SparkContext(app=BooksRatingsJoin, master=local[*]) created by __init__ at /tmp/ipykernel_49729/930124118.py:2 "
     ]
    }
   ],
   "source": [
    "# Initialize SparkContext\n",
    "sc = SparkContext(appName=\"BooksRatingsJoin\")"
   ]
  },
  {
   "cell_type": "code",
   "execution_count": 17,
   "id": "c19086c8-9ae5-4946-82f4-964b2c0f8a5a",
   "metadata": {},
   "outputs": [],
   "source": [
    "# Load CSV files into RDDs\n",
    "ratings = sc.textFile('/home/maryam/content/BooksRating-CSV/Book-Ratings.csv')\n",
    "books = sc.textFile('/home/maryam/content/BooksRating-CSV/Books.csv')\n",
    "users = sc.textFile('/home/maryam/content/BooksRating-CSV/Users.csv')"
   ]
  },
  {
   "cell_type": "code",
   "execution_count": 18,
   "id": "4f8cac47-f731-45ef-8c0b-225adb5dd22a",
   "metadata": {},
   "outputs": [],
   "source": [
    "# Extract headers\n",
    "ratings_header = ratings.first()\n",
    "books_header = books.first()\n",
    "users_header = users.first()"
   ]
  },
  {
   "cell_type": "code",
   "execution_count": 19,
   "id": "2f4b327c-6312-4460-a58d-016a6c45717c",
   "metadata": {},
   "outputs": [],
   "source": [
    "# Parsing functions\n",
    "def parse_ratings(line):\n",
    "    try:\n",
    "        if line == ratings_header:\n",
    "            return None\n",
    "        fields = line.replace('\"', '').split(';')\n",
    "        userid = fields[0]  # userid is the first field\n",
    "        isbn = fields[1]  # isbn is the second field\n",
    "        rate = float(fields[2])  # rate is the third field\n",
    "        return (isbn, (userid, rate))\n",
    "    except Exception as e:\n",
    "        print(f\"Error parsing ratings line: {line}, Error: {e}\")\n",
    "        return None\n",
    "\n",
    "def parse_books(line):\n",
    "    try:\n",
    "        if line == books_header:\n",
    "            return None\n",
    "        fields = line.replace('\"', '').split(';')\n",
    "        isbn = fields[0]  # isbn is the first field\n",
    "        book_title = fields[1]  # book title is the second field\n",
    "        return (isbn, book_title)\n",
    "    except Exception as e:\n",
    "        print(f\"Error parsing books line: {line}, Error: {e}\")\n",
    "        return None\n",
    "\n",
    "def parse_users(line):\n",
    "    try:\n",
    "        if line == users_header:\n",
    "            return None\n",
    "        fields = line.replace('\"', '').split(';')\n",
    "        userid = fields[0]  # userid is the first field\n",
    "        user_name = fields[1]  # user name is the second field\n",
    "        return (userid, user_name)\n",
    "    except Exception as e:\n",
    "        print(f\"Error parsing users line: {line}, Error: {e}\")\n",
    "        return None"
   ]
  },
  {
   "cell_type": "code",
   "execution_count": 20,
   "id": "757d4ff0-d88f-489c-ab56-4f281c0292eb",
   "metadata": {},
   "outputs": [],
   "source": [
    "# Parse the CSV lines and filter out invalid rows\n",
    "parsed_ratings = ratings.map(parse_ratings).filter(lambda x: x is not None)\n",
    "parsed_books = books.map(parse_books).filter(lambda x: x is not None)\n",
    "parsed_users = users.map(parse_users).filter(lambda x: x is not None)"
   ]
  },
  {
   "cell_type": "code",
   "execution_count": 21,
   "id": "6e595ad7-3229-4db2-a81b-84f5dedb887a",
   "metadata": {},
   "outputs": [],
   "source": [
    "# Calculate the sum and count of ratings for each isbn\n",
    "isbn_ratings = parsed_ratings.map(lambda x: (x[0], x[1][1]))\n",
    "isbn_rating_totals = isbn_ratings.combineByKey(\n",
    "    lambda value: (value, 1),\n",
    "    lambda acc, value: (acc[0] + value, acc[1] + 1),\n",
    "    lambda acc1, acc2: (acc1[0] + acc2[0], acc1[1] + acc2[1])\n",
    ")\n",
    "isbn_average_ratings = isbn_rating_totals.mapValues(lambda totals: totals[0] / totals[1])"
   ]
  },
  {
   "cell_type": "code",
   "execution_count": 22,
   "id": "002b915a-481f-4356-a854-9fe97fa798e8",
   "metadata": {},
   "outputs": [],
   "source": [
    "# Join ratings with books to get book titles\n",
    "ratings_books_join = parsed_ratings.map(lambda x: (x[0], x[1])).join(parsed_books)"
   ]
  },
  {
   "cell_type": "code",
   "execution_count": 23,
   "id": "4debf08e-035a-49c3-a038-b95e176d6d88",
   "metadata": {},
   "outputs": [],
   "source": [
    "# Join the above result with users to get user names\n",
    "ratings_books_users_join = ratings_books_join.map(lambda x: (x[1][0][0], (x[0], x[1][0][1], x[1][1]))).join(parsed_users)"
   ]
  },
  {
   "cell_type": "code",
   "execution_count": 24,
   "id": "c3105f7b-6fc1-44b3-b792-cdca4eca1d20",
   "metadata": {},
   "outputs": [],
   "source": [
    "# Join with average ratings\n",
    "final_join = ratings_books_users_join.map(lambda x: (x[1][0][0], (x[1][0][2], x[1][0][1], x[1][1]))).join(isbn_average_ratings)"
   ]
  },
  {
   "cell_type": "code",
   "execution_count": 25,
   "id": "4b031579-f3ba-4e9f-82e9-b5b552f3e049",
   "metadata": {},
   "outputs": [],
   "source": [
    "# Format the final output\n",
    "final_output = final_join.map(lambda x: (x[1][0][2], x[1][0][0], x[1][0][1], x[1][1]))"
   ]
  },
  {
   "cell_type": "code",
   "execution_count": 26,
   "id": "8e691e41-0b7d-48e3-a6ad-0f5d54df7861",
   "metadata": {},
   "outputs": [],
   "source": [
    "# Add the header \n",
    "header = sc.parallelize(['username;book title;username’s rate;Book Avg’ rate']) \n",
    "final_output_with_header = header.union(final_output.map(lambda x: f'\"{x[0]}\";\"{x[1]}\";\"{x[2]}\";\"{x[3]:.2f}\"'))"
   ]
  },
  {
   "cell_type": "code",
   "execution_count": 27,
   "id": "1e5c08ef-de42-4a8e-8143-8f24573cfb09",
   "metadata": {},
   "outputs": [],
   "source": [
    "# Coalesce to a single partition \n",
    "final_output_with_header = final_output_with_header.coalesce(1)"
   ]
  },
  {
   "cell_type": "code",
   "execution_count": 28,
   "id": "cc7d682d-0fda-44c6-9345-cde9a9bf38b6",
   "metadata": {},
   "outputs": [
    {
     "name": "stderr",
     "output_type": "stream",
     "text": [
      "[Stage 10:>                                                         (0 + 1) / 1]"
     ]
    },
    {
     "name": "stdout",
     "output_type": "stream",
     "text": [
      "Results saved to /home/maryam/content/BooksRating_csv_with_header3.csv\n"
     ]
    },
    {
     "name": "stderr",
     "output_type": "stream",
     "text": [
      "                                                                                "
     ]
    }
   ],
   "source": [
    "# Save the results to a new CSV file \n",
    "output_file = '/home/maryam/content/BooksRating_csv_with_header3.csv' \n",
    "final_output_with_header.saveAsTextFile(output_file) \n",
    "print(f\"Results saved to {output_file}\")"
   ]
  },
  {
   "cell_type": "code",
   "execution_count": null,
   "id": "ab1d2458-5478-40b0-a608-761b55206bbb",
   "metadata": {},
   "outputs": [],
   "source": [
    "# Stop the SparkContext \n",
    "sc.stop()"
   ]
  }
 ],
 "metadata": {
  "kernelspec": {
   "display_name": "Python 3 (ipykernel)",
   "language": "python",
   "name": "python3"
  },
  "language_info": {
   "codemirror_mode": {
    "name": "ipython",
    "version": 3
   },
   "file_extension": ".py",
   "mimetype": "text/x-python",
   "name": "python",
   "nbconvert_exporter": "python",
   "pygments_lexer": "ipython3",
   "version": "3.12.3"
  }
 },
 "nbformat": 4,
 "nbformat_minor": 5
}
