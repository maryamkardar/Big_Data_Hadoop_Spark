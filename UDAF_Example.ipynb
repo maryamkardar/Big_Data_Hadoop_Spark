{
 "cells": [
  {
   "cell_type": "code",
   "execution_count": 1,
   "id": "4d8d8975-6b6c-46cd-a374-6ccef1c82a9c",
   "metadata": {},
   "outputs": [],
   "source": [
    "from pyspark.sql import SparkSession\n",
    "from pyspark.sql.functions import col, collect_list, udf\n",
    "from pyspark.sql.types import DoubleType"
   ]
  },
  {
   "cell_type": "code",
   "execution_count": 2,
   "id": "fb5742ad-de7e-435b-b0ae-11a37726e090",
   "metadata": {},
   "outputs": [
    {
     "name": "stderr",
     "output_type": "stream",
     "text": [
      "Setting default log level to \"WARN\".\n",
      "To adjust logging level use sc.setLogLevel(newLevel). For SparkR, use setLogLevel(newLevel).\n",
      "24/12/24 14:06:59 WARN NativeCodeLoader: Unable to load native-hadoop library for your platform... using builtin-java classes where applicable\n"
     ]
    }
   ],
   "source": [
    "# Initialize Spark Session\n",
    "spark = SparkSession.builder.appName(\"UDAFExample\").getOrCreate()"
   ]
  },
  {
   "cell_type": "code",
   "execution_count": 3,
   "id": "e9f04416-ece3-4dfd-a573-afb1cdd58b24",
   "metadata": {},
   "outputs": [],
   "source": [
    "# Sample Data\n",
    "data = [(\"hello\",), (\"world\",), (\"!\",), (\"PySpark\",)]\n",
    "df = spark.createDataFrame(data, [\"text\"])"
   ]
  },
  {
   "cell_type": "code",
   "execution_count": 4,
   "id": "a82a1f13-f961-4069-b10a-99b57c662da5",
   "metadata": {},
   "outputs": [],
   "source": [
    "# Define the UDAF\n",
    "def avg_length_udaf(values):\n",
    "    if len(values) == 0:\n",
    "        return 0.0\n",
    "    total_length = sum(len(val) for val in values)\n",
    "    return total_length / len(values)"
   ]
  },
  {
   "cell_type": "code",
   "execution_count": 5,
   "id": "773f475c-51a2-4224-b46c-461226042030",
   "metadata": {},
   "outputs": [],
   "source": [
    "# Register the UDAF\n",
    "avg_length = udf(avg_length_udaf, DoubleType())"
   ]
  },
  {
   "cell_type": "code",
   "execution_count": 6,
   "id": "ce82973c-5b35-452d-988a-2ea99df02e3a",
   "metadata": {},
   "outputs": [],
   "source": [
    "# Use the UDAF in a query\n",
    "df_grouped = df.groupBy().agg(avg_length(collect_list(\"text\")).alias(\"avg_length\"))"
   ]
  },
  {
   "cell_type": "code",
   "execution_count": 7,
   "id": "9cf5e9b9-53a0-4346-8724-ebac2e90973c",
   "metadata": {},
   "outputs": [
    {
     "name": "stderr",
     "output_type": "stream",
     "text": [
      "                                                                                "
     ]
    },
    {
     "name": "stdout",
     "output_type": "stream",
     "text": [
      "+----------+\n",
      "|avg_length|\n",
      "+----------+\n",
      "|       4.5|\n",
      "+----------+\n",
      "\n"
     ]
    }
   ],
   "source": [
    "# Show the result\n",
    "df_grouped.show()"
   ]
  },
  {
   "cell_type": "code",
   "execution_count": 8,
   "id": "1d89b209-4740-4468-bbd1-ff5036816e94",
   "metadata": {},
   "outputs": [],
   "source": [
    "# Stop the Spark session\n",
    "spark.stop()"
   ]
  }
 ],
 "metadata": {
  "kernelspec": {
   "display_name": "Python 3 (ipykernel)",
   "language": "python",
   "name": "python3"
  },
  "language_info": {
   "codemirror_mode": {
    "name": "ipython",
    "version": 3
   },
   "file_extension": ".py",
   "mimetype": "text/x-python",
   "name": "python",
   "nbconvert_exporter": "python",
   "pygments_lexer": "ipython3",
   "version": "3.12.3"
  }
 },
 "nbformat": 4,
 "nbformat_minor": 5
}
